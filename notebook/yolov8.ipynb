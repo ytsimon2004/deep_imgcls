{
 "cells": [
  {
   "cell_type": "code",
   "execution_count": null,
   "id": "5c2e62c9-78e8-4410-970f-baf6b5ca9f06",
   "metadata": {},
   "outputs": [],
   "source": [
    "from imgcls.classification.yolov8 import YoloUltralyticsPipeline, plot_image_seg\n",
    "from imgcls.io import *"
   ]
  },
  {
   "cell_type": "code",
   "execution_count": null,
   "id": "49eeab52-a460-4722-92d0-de06b3aa5c79",
   "metadata": {},
   "outputs": [],
   "source": [
    "%matplotlib inline\n",
    "%load_ext autoreload\n",
    "%autoreload 2"
   ]
  },
  {
   "cell_type": "markdown",
   "id": "699679e8-5148-4f7e-b887-81e57422b8d4",
   "metadata": {},
   "source": [
    "# Custom pipeline for running yolov8 model for image classification\n",
    "- Seealso documentation in module `imgcls.classification.yolov8.pipeline.YoloUltralyticsPipeline`\n",
    "- Check https://docs.ultralytics.com/modes/train/\n",
    "- Follow the data folder structure\n",
    "    - xx "
   ]
  },
  {
   "cell_type": "code",
   "execution_count": null,
   "id": "bf40c182-1b9d-407a-b029-41f293a004a0",
   "metadata": {},
   "outputs": [],
   "source": [
    "# Init the class. REPLACE `CACHE_DIRECTORY` to user-specific root directory which followed by the data folder structure\n",
    "# By default, assume the dataset is located at ~/.cache/comvis/imgcls from home directory\n",
    "yolo = YoloUltralyticsPipeline(root_dir=CACHE_DIRECTORY, resize_dim=(500, 500))"
   ]
  },
  {
   "cell_type": "markdown",
   "id": "8a6e2948-5102-4592-a195-a8a255dab8fa",
   "metadata": {},
   "source": [
    "## **Step 1** - Clone batch raw .npy files to png in a separated folder"
   ]
  },
  {
   "cell_type": "code",
   "execution_count": null,
   "id": "08eacd6d-763b-431e-9d60-329e8c81f309",
   "metadata": {},
   "outputs": [],
   "source": [
    "yolo.clone_png_dir()"
   ]
  },
  {
   "cell_type": "code",
   "execution_count": null,
   "id": "afeafea0-a090-468b-8c27-b8faeca096ff",
   "metadata": {},
   "outputs": [],
   "source": [
    "# see example by indices\n",
    "plot_image_seg(yolo.image_dir, index_range=(0, 5))"
   ]
  },
  {
   "cell_type": "markdown",
   "id": "909cb8a4-6869-404f-82c2-afb4171e020a",
   "metadata": {},
   "source": [
    "## **Step 2** - Generate the yaml for yolov8 config"
   ]
  },
  {
   "cell_type": "code",
   "execution_count": null,
   "id": "1196ff38-2202-499e-bb54-a7b7beeebeff",
   "metadata": {},
   "outputs": [],
   "source": [
    "# <PATH> related values are user-specific\n",
    "yolo.gen_yaml(verbose=True)"
   ]
  },
  {
   "cell_type": "markdown",
   "id": "8d525594-d6f5-41e5-9822-bda9f5f16e49",
   "metadata": {},
   "source": [
    "## **Step 3** - Detect the object edge from seg files and generate the yolo4 required label file for train dataset\n",
    "    - <class_id> <xc> <y_center> <width> <height>"
   ]
  },
  {
   "cell_type": "code",
   "execution_count": null,
   "id": "110ebc78-e0bc-4dcc-9890-f408c04c9638",
   "metadata": {},
   "outputs": [],
   "source": [
    "# Use debug mode = True to see the examples \n",
    "yolo.gen_label_txt(debug_mode=True)"
   ]
  }
 ],
 "metadata": {
  "kernelspec": {
   "display_name": "comvis",
   "language": "python",
   "name": "comvis"
  },
  "language_info": {
   "codemirror_mode": {
    "name": "ipython",
    "version": 3
   },
   "file_extension": ".py",
   "mimetype": "text/x-python",
   "name": "python",
   "nbconvert_exporter": "python",
   "pygments_lexer": "ipython3",
   "version": "3.10.13"
  }
 },
 "nbformat": 4,
 "nbformat_minor": 5
}
