{
 "cells": [
  {
   "cell_type": "code",
   "execution_count": null,
   "id": "5c2e62c9-78e8-4410-970f-baf6b5ca9f06",
   "metadata": {},
   "outputs": [],
   "source": [
    "from imgcls.classification.yolov8 import YoloUltralyticsPipeline, plot_image_seg, dir_ipy_imshow\n",
    "from imgcls.io import *"
   ]
  },
  {
   "cell_type": "code",
   "execution_count": null,
   "id": "49eeab52-a460-4722-92d0-de06b3aa5c79",
   "metadata": {},
   "outputs": [],
   "source": [
    "%matplotlib inline\n",
    "%load_ext autoreload\n",
    "%autoreload 2"
   ]
  },
  {
   "cell_type": "markdown",
   "id": "699679e8-5148-4f7e-b887-81e57422b8d4",
   "metadata": {},
   "source": [
    "# Custom Pipeline for Running YOLOv8 Model for Image Classification\n",
    "\n",
    "- Refer to the module documentation at `imgcls.classification.yolov8.pipeline.YoloUltralyticsPipeline`.\n",
    "\n",
    "- For more information on training modes, visit [Ultralytics Documentation](https://docs.ultralytics.com/modes/train/).\n",
    "\n",
    "- Avalible model type: `yolov8n`, `yolov8s`, `yolov8m`, `yolov8l`, `yolov8x`\n",
    "\n",
    "- **Follow the data folder structure as outlined below**:\n",
    "```\n",
    "SOURCE_ROOT_DIR\n",
    "\n",
    "    ├── dataset.yml (1)\n",
    "    ├── runs/ (2)\n",
    "    │   └── detect\n",
    "    │         ├── predict*\n",
    "    │         │    ├── labels/\n",
    "    │         │    ├── test_*.png\n",
    "    │         │    └── test_set.csv (5)\n",
    "    │         ├── train*\n",
    "    │         │    ├── <yolo outputs>\n",
    "    │         │    └── weights/ (6)\n",
    "    │         └── *yolov8s.pt\n",
    "    │\n",
    "    ├── test/ (3)\n",
    "    │   ├── img/\n",
    "    │   ├── img_png/\n",
    "    │   └── test_set.csv\n",
    "    │\n",
    "    └── train (4)\n",
    "        ├── img/\n",
    "        ├── img_png/\n",
    "        ├── seg/\n",
    "        ├── seg_png/\n",
    "        └── train_set.csv\n",
    "\n",
    "```\n",
    "    (1) config yaml file for the custom path info/image labels\n",
    "    \n",
    "    (2) directory for model/train/evaluation output files\n",
    "    \n",
    "    (3) directory for test dataset\n",
    "    \n",
    "    (4) directory for train dataset\n",
    "\n",
    "    (5) output results of classification\n",
    "    \n",
    "    (6) store the fine-tuned model weights"
   ]
  },
  {
   "cell_type": "code",
   "execution_count": null,
   "id": "bf40c182-1b9d-407a-b029-41f293a004a0",
   "metadata": {},
   "outputs": [],
   "source": [
    "# Init the class. REPLACE `CACHE_DIRECTORY` to the user-specific root directory which followed by the data folder structure\n",
    "# By default, assume the dataset is located at ~/.cache/comvis/imgcls from home directory\n",
    "# kwargs: use_gpu = True if CUDA available\n",
    "\n",
    "yolo = YoloUltralyticsPipeline(root_dir=CACHE_DIRECTORY, \n",
    "                               resize_dim=(500, 500), \n",
    "                               model_type='yolov8n',\n",
    "                               epochs=10)"
   ]
  },
  {
   "cell_type": "markdown",
   "id": "8a6e2948-5102-4592-a195-a8a255dab8fa",
   "metadata": {},
   "source": [
    "## **Step 1** - Clone batch raw .npy files to png in a separated folder"
   ]
  },
  {
   "cell_type": "code",
   "execution_count": null,
   "id": "08eacd6d-763b-431e-9d60-329e8c81f309",
   "metadata": {},
   "outputs": [],
   "source": [
    "yolo.clone_png_dir()"
   ]
  },
  {
   "cell_type": "code",
   "execution_count": null,
   "id": "afeafea0-a090-468b-8c27-b8faeca096ff",
   "metadata": {},
   "outputs": [],
   "source": [
    "# see example by indices\n",
    "plot_image_seg(yolo.image_dir, index_range=(0, 5))"
   ]
  },
  {
   "cell_type": "markdown",
   "id": "909cb8a4-6869-404f-82c2-afb4171e020a",
   "metadata": {},
   "source": [
    "## **Step 2** - Generate the yaml for yolov8 config"
   ]
  },
  {
   "cell_type": "code",
   "execution_count": null,
   "id": "1196ff38-2202-499e-bb54-a7b7beeebeff",
   "metadata": {},
   "outputs": [],
   "source": [
    "# <PATH> related values are user-specific\n",
    "yolo.gen_yaml(verbose=True)"
   ]
  },
  {
   "cell_type": "markdown",
   "id": "8d525594-d6f5-41e5-9822-bda9f5f16e49",
   "metadata": {},
   "source": [
    "## **Step 3** - Detect the object edge from seg files and generate the yolo8 required label file for train dataset\n",
    "- Each object example: \\<class_id\\> \\<xc\\> \\<y_center\\> \\<width\\> \\<height\\>"
   ]
  },
  {
   "cell_type": "code",
   "execution_count": null,
   "id": "110ebc78-e0bc-4dcc-9890-f408c04c9638",
   "metadata": {},
   "outputs": [],
   "source": [
    "# Use debug mode = True to see the examples \n",
    "yolo.gen_label_txt(debug_mode=False)"
   ]
  },
  {
   "cell_type": "markdown",
   "id": "f32ee6d4-096a-488b-92ef-3d73e94728b1",
   "metadata": {},
   "source": [
    "## **Step 4/5** - Load a pretrained model for training & prediction"
   ]
  },
  {
   "cell_type": "code",
   "execution_count": null,
   "id": "22514022-0726-4bc3-bbbd-3ec5d0f82397",
   "metadata": {},
   "outputs": [],
   "source": [
    "# Option 1: If not yet fine-tuned the model. \n",
    "yolo.yolo_train()\n",
    "yolo.yolo_predict()"
   ]
  },
  {
   "cell_type": "code",
   "execution_count": null,
   "id": "202096f8-0b11-4961-b562-963a534d3bfc",
   "metadata": {},
   "outputs": [],
   "source": [
    "# Option 2: If a fine-tuned model already exists. directly load\n",
    "model_path = ...  # e.g., */run/train/weights/best.pt\n",
    "yolo.yolo_predict(model_path)"
   ]
  },
  {
   "cell_type": "code",
   "execution_count": null,
   "id": "127ec9c8-3e60-402c-b294-88176c1684f5",
   "metadata": {},
   "outputs": [],
   "source": [
    "# Brief interactive way to examine the predicted results using test dataset\n",
    "predict_dir = yolo.image_dir.get_predict_dir('predict')  # i.e., 'predict'\n",
    "dir_ipy_imshow(predict_dir, pattern='*.png')"
   ]
  },
  {
   "cell_type": "markdown",
   "id": "1f1e7f83-923f-46e1-bf12-bca2f4c8577b",
   "metadata": {},
   "source": [
    "## **Step 6** - Create csv for classified test dataset"
   ]
  },
  {
   "cell_type": "code",
   "execution_count": null,
   "id": "02d3c52d-f741-481e-9e09-afba5eea5ca1",
   "metadata": {},
   "outputs": [],
   "source": [
    "yolo.create_predicted_csv()"
   ]
  }
 ],
 "metadata": {
  "kernelspec": {
   "display_name": "comvis",
   "language": "python",
   "name": "comvis"
  },
  "language_info": {
   "codemirror_mode": {
    "name": "ipython",
    "version": 3
   },
   "file_extension": ".py",
   "mimetype": "text/x-python",
   "name": "python",
   "nbconvert_exporter": "python",
   "pygments_lexer": "ipython3",
   "version": "3.10.13"
  }
 },
 "nbformat": 4,
 "nbformat_minor": 5
}
