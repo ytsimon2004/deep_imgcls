{
 "cells": [
  {
   "cell_type": "markdown",
   "id": "9c4fdea8-0365-4fde-b011-b8d0ef60514f",
   "metadata": {},
   "source": [
    "## Prep for running on colab"
   ]
  },
  {
   "cell_type": "code",
   "execution_count": null,
   "id": "WeYUnYKDPRrF",
   "metadata": {
    "colab": {
     "base_uri": "https://localhost:8080/"
    },
    "id": "WeYUnYKDPRrF",
    "outputId": "67e4b3c3-ed0f-40f3-ce28-b5a625541bd3"
   },
   "outputs": [],
   "source": [
    "!git clone https://github.com/ytsimon2004/deep_imgcls.git"
   ]
  },
  {
   "cell_type": "code",
   "execution_count": null,
   "id": "jZsR9fM9mZCR",
   "metadata": {
    "colab": {
     "base_uri": "https://localhost:8080/"
    },
    "id": "jZsR9fM9mZCR",
    "outputId": "5a3ab223-16dd-4268-a948-3b557d8a1e23"
   },
   "outputs": [],
   "source": [
    "# dependencies installation\n",
    "%cd deep_imgcls\n",
    "!python setup_colab.py develop\n",
    "!pip install -r requirements.txt"
   ]
  },
  {
   "cell_type": "code",
   "execution_count": null,
   "id": "9--ylS-or7Fd",
   "metadata": {
    "id": "9--ylS-or7Fd"
   },
   "outputs": [],
   "source": [
    "# hack for setup.py run properly\n",
    "!pip install ipykernel~=5.5.0"
   ]
  },
  {
   "cell_type": "code",
   "execution_count": null,
   "id": "5c2e62c9-78e8-4410-970f-baf6b5ca9f06",
   "metadata": {
    "id": "5c2e62c9-78e8-4410-970f-baf6b5ca9f06"
   },
   "outputs": [],
   "source": [
    "from imgcls.classification.yolov8 import YoloUltralyticsPipeline, plot_image_seg, dir_ipy_imshow\n",
    "from imgcls.io import *\n",
    "\n",
    "from pathlib import Path"
   ]
  },
  {
   "cell_type": "code",
   "execution_count": null,
   "id": "49eeab52-a460-4722-92d0-de06b3aa5c79",
   "metadata": {
    "id": "49eeab52-a460-4722-92d0-de06b3aa5c79"
   },
   "outputs": [],
   "source": [
    "%matplotlib inline\n",
    "%load_ext autoreload\n",
    "%autoreload 2"
   ]
  },
  {
   "cell_type": "markdown",
   "id": "699679e8-5148-4f7e-b887-81e57422b8d4",
   "metadata": {
    "id": "699679e8-5148-4f7e-b887-81e57422b8d4"
   },
   "source": [
    "# Custom Pipeline for Running YOLOv8 Model for Image Classification\n",
    "\n",
    "- Refer to the module documentation at `imgcls.classification.yolov8.pipeline.YoloUltralyticsPipeline`.\n",
    "\n",
    "- For more information on training modes, visit [Ultralytics Documentation](https://docs.ultralytics.com/modes/train/).\n",
    "\n",
    "- Avalible model type: `yolov8n`, `yolov8s`, `yolov8m`, `yolov8l`, `yolov8x`\n",
    "\n",
    "- **Follow the data folder structure as outlined below**:\n",
    "```\n",
    "SOURCE_ROOT_DIR\n",
    "│\n",
    "├── dataset.yml (1)\n",
    "├── run (2)\n",
    "│   ├── predict*\n",
    "│   │    └── test_set.csv (5)\n",
    "│   ├── train*\n",
    "│   │    └── weights (6)\n",
    "│   └── *yolov8s.pt\n",
    "│\n",
    "├── test (3)\n",
    "│   ├── img\n",
    "│   ├── img_png\n",
    "│   └── test_set.csv\n",
    "│\n",
    "└── train (4)\n",
    "    ├── img\n",
    "    ├── img_png\n",
    "    ├── seg\n",
    "    ├── seg_png\n",
    "    └── train_set.csv\n",
    "```\n",
    "    (1) config yaml file for the custom path info/image labels\n",
    "    \n",
    "    (2) directory for model/train/evaluation output files\n",
    "    \n",
    "    (3) directory for test dataset\n",
    "    \n",
    "    (4) directory for train dataset\n",
    "\n",
    "    (5) output results of classification\n",
    "    \n",
    "    (6) store the fine-tuned model weights"
   ]
  },
  {
   "cell_type": "code",
   "execution_count": null,
   "id": "qI7Kk6Hqj_1b",
   "metadata": {
    "colab": {
     "base_uri": "https://localhost:8080/"
    },
    "id": "qI7Kk6Hqj_1b",
    "outputId": "fd694484-1dd2-4587-c586-962c2f61fd5f"
   },
   "outputs": [],
   "source": [
    "from google.colab import drive\n",
    "drive.mount('/content/drive')"
   ]
  },
  {
   "cell_type": "code",
   "execution_count": null,
   "id": "bf40c182-1b9d-407a-b029-41f293a004a0",
   "metadata": {
    "colab": {
     "base_uri": "https://localhost:8080/"
    },
    "id": "bf40c182-1b9d-407a-b029-41f293a004a0",
    "outputId": "e83f9df5-70dc-4879-f713-289eea20ef9a"
   },
   "outputs": [],
   "source": [
    "# assume SOURCE_ROOT_DIR is under the /content/drive\n",
    "yolo = YoloUltralyticsPipeline(root_dir=Path('/content/drive/MyDrive/comvis/imgcls'),\n",
    "                               resize_dim=(500, 500),\n",
    "                               model_type='yolov8n',\n",
    "                               use_gpu=True,\n",
    "                               epochs=100)"
   ]
  },
  {
   "cell_type": "markdown",
   "id": "8a6e2948-5102-4592-a195-a8a255dab8fa",
   "metadata": {
    "id": "8a6e2948-5102-4592-a195-a8a255dab8fa"
   },
   "source": [
    "## **Step 1** - Clone batch raw .npy files to png in a separated folder"
   ]
  },
  {
   "cell_type": "code",
   "execution_count": null,
   "id": "08eacd6d-763b-431e-9d60-329e8c81f309",
   "metadata": {
    "colab": {
     "base_uri": "https://localhost:8080/"
    },
    "id": "08eacd6d-763b-431e-9d60-329e8c81f309",
    "outputId": "71e6e7a5-fa9a-412b-838f-7d6329d75b29"
   },
   "outputs": [],
   "source": [
    "yolo.clone_png_dir()"
   ]
  },
  {
   "cell_type": "code",
   "execution_count": null,
   "id": "afeafea0-a090-468b-8c27-b8faeca096ff",
   "metadata": {
    "colab": {
     "base_uri": "https://localhost:8080/",
     "height": 360
    },
    "id": "afeafea0-a090-468b-8c27-b8faeca096ff",
    "outputId": "14f32537-6ec5-4282-cd9e-df97f7e4772e"
   },
   "outputs": [],
   "source": [
    "# see example by indices\n",
    "plot_image_seg(yolo.image_dir, index_range=(0, 5))"
   ]
  },
  {
   "cell_type": "markdown",
   "id": "909cb8a4-6869-404f-82c2-afb4171e020a",
   "metadata": {
    "id": "909cb8a4-6869-404f-82c2-afb4171e020a"
   },
   "source": [
    "## **Step 2** - Generate the yaml for yolov8 config"
   ]
  },
  {
   "cell_type": "code",
   "execution_count": null,
   "id": "1196ff38-2202-499e-bb54-a7b7beeebeff",
   "metadata": {
    "colab": {
     "base_uri": "https://localhost:8080/"
    },
    "id": "1196ff38-2202-499e-bb54-a7b7beeebeff",
    "outputId": "0401f448-dd62-409d-c12c-4ecc69077132"
   },
   "outputs": [],
   "source": [
    "# <PATH> related values are user-specific\n",
    "yolo.gen_yaml(verbose=True)"
   ]
  },
  {
   "cell_type": "markdown",
   "id": "8d525594-d6f5-41e5-9822-bda9f5f16e49",
   "metadata": {
    "id": "8d525594-d6f5-41e5-9822-bda9f5f16e49"
   },
   "source": [
    "## **Step 3** - Detect the object edge from seg files and generate the yolo8 required label file for train dataset\n",
    "- Each object example: \\<class_id\\> \\<xc\\> \\<y_center\\> \\<width\\> \\<height\\>"
   ]
  },
  {
   "cell_type": "code",
   "execution_count": null,
   "id": "110ebc78-e0bc-4dcc-9890-f408c04c9638",
   "metadata": {
    "colab": {
     "base_uri": "https://localhost:8080/"
    },
    "id": "110ebc78-e0bc-4dcc-9890-f408c04c9638",
    "outputId": "31321431-a613-47fd-85bc-9ce7e5738739"
   },
   "outputs": [],
   "source": [
    "# Use debug mode = True to see the examples\n",
    "yolo.gen_label_txt(debug_mode=False)"
   ]
  },
  {
   "cell_type": "markdown",
   "id": "f32ee6d4-096a-488b-92ef-3d73e94728b1",
   "metadata": {
    "id": "f32ee6d4-096a-488b-92ef-3d73e94728b1"
   },
   "source": [
    "## **Step 4/5** - Load a pretrained model for training & prediction"
   ]
  },
  {
   "cell_type": "code",
   "execution_count": null,
   "id": "22514022-0726-4bc3-bbbd-3ec5d0f82397",
   "metadata": {
    "colab": {
     "base_uri": "https://localhost:8080/"
    },
    "id": "22514022-0726-4bc3-bbbd-3ec5d0f82397",
    "outputId": "00a34390-531f-47e4-baf4-e2c3557926fd"
   },
   "outputs": [],
   "source": [
    "# Option 1: If not yet fine-tuned the model.\n",
    "yolo.yolo_train()\n",
    "yolo.yolo_predict()"
   ]
  },
  {
   "cell_type": "code",
   "execution_count": null,
   "id": "202096f8-0b11-4961-b562-963a534d3bfc",
   "metadata": {
    "id": "202096f8-0b11-4961-b562-963a534d3bfc"
   },
   "outputs": [],
   "source": [
    "# # Option 2: If a fine-tuned model already exists. directly load\n",
    "model_path = ...  # e.g., */run/train/weights/best.pt\n",
    "yolo.yolo_predict(model_path)"
   ]
  },
  {
   "cell_type": "code",
   "execution_count": null,
   "id": "127ec9c8-3e60-402c-b294-88176c1684f5",
   "metadata": {
    "colab": {
     "base_uri": "https://localhost:8080/",
     "height": 432,
     "referenced_widgets": [
      "0e47c4d70b88447197579bc82478e870",
      "5a40d577132d4e75b193de1c46e9befb",
      "0fc85f4e96ea465fbdbab368893b6829",
      "cf0392829420437882ff30e3f3a9797f",
      "ea2ac885fcbb4970a3c416d643dfa71e"
     ]
    },
    "id": "127ec9c8-3e60-402c-b294-88176c1684f5",
    "outputId": "2dc5e23b-6985-47e4-acc2-149c912867d0"
   },
   "outputs": [],
   "source": [
    "# Brief interactive way to examine the predicted results using test dataset\n",
    "predict_dir = yolo.image_dir.get_predict_dir(yolo.predict_filename)\n",
    "dir_ipy_imshow(predict_dir, pattern='*.png')"
   ]
  },
  {
   "cell_type": "markdown",
   "id": "1f1e7f83-923f-46e1-bf12-bca2f4c8577b",
   "metadata": {
    "id": "1f1e7f83-923f-46e1-bf12-bca2f4c8577b"
   },
   "source": [
    "## **Step 6** - Create csv for classified test dataset"
   ]
  },
  {
   "cell_type": "code",
   "execution_count": null,
   "id": "02d3c52d-f741-481e-9e09-afba5eea5ca1",
   "metadata": {
    "colab": {
     "base_uri": "https://localhost:8080/"
    },
    "id": "02d3c52d-f741-481e-9e09-afba5eea5ca1",
    "outputId": "5db8a542-a811-4cce-f680-29872a9b2896"
   },
   "outputs": [],
   "source": [
    "yolo.create_predicted_csv()"
   ]
  }
 ],
 "metadata": {
  "accelerator": "GPU",
  "colab": {
   "gpuType": "T4",
   "provenance": []
  },
  "kernelspec": {
   "display_name": "comvis",
   "language": "python",
   "name": "comvis"
  },
  "language_info": {
   "codemirror_mode": {
    "name": "ipython",
    "version": 3
   },
   "file_extension": ".py",
   "mimetype": "text/x-python",
   "name": "python",
   "nbconvert_exporter": "python",
   "pygments_lexer": "ipython3",
   "version": "3.10.13"
  },
  "widgets": {
   "application/vnd.jupyter.widget-state+json": {
    "0e47c4d70b88447197579bc82478e870": {
     "model_module": "@jupyter-widgets/controls",
     "model_module_version": "1.5.0",
     "model_name": "ButtonModel",
     "state": {
      "_dom_classes": [],
      "_model_module": "@jupyter-widgets/controls",
      "_model_module_version": "1.5.0",
      "_model_name": "ButtonModel",
      "_view_count": null,
      "_view_module": "@jupyter-widgets/controls",
      "_view_module_version": "1.5.0",
      "_view_name": "ButtonView",
      "button_style": "",
      "description": "Next Image",
      "disabled": false,
      "icon": "",
      "layout": "IPY_MODEL_5a40d577132d4e75b193de1c46e9befb",
      "style": "IPY_MODEL_0fc85f4e96ea465fbdbab368893b6829",
      "tooltip": ""
     }
    },
    "0fc85f4e96ea465fbdbab368893b6829": {
     "model_module": "@jupyter-widgets/controls",
     "model_module_version": "1.5.0",
     "model_name": "ButtonStyleModel",
     "state": {
      "_model_module": "@jupyter-widgets/controls",
      "_model_module_version": "1.5.0",
      "_model_name": "ButtonStyleModel",
      "_view_count": null,
      "_view_module": "@jupyter-widgets/base",
      "_view_module_version": "1.2.0",
      "_view_name": "StyleView",
      "button_color": null,
      "font_weight": ""
     }
    },
    "5a40d577132d4e75b193de1c46e9befb": {
     "model_module": "@jupyter-widgets/base",
     "model_module_version": "1.2.0",
     "model_name": "LayoutModel",
     "state": {
      "_model_module": "@jupyter-widgets/base",
      "_model_module_version": "1.2.0",
      "_model_name": "LayoutModel",
      "_view_count": null,
      "_view_module": "@jupyter-widgets/base",
      "_view_module_version": "1.2.0",
      "_view_name": "LayoutView",
      "align_content": null,
      "align_items": null,
      "align_self": null,
      "border": null,
      "bottom": null,
      "display": null,
      "flex": null,
      "flex_flow": null,
      "grid_area": null,
      "grid_auto_columns": null,
      "grid_auto_flow": null,
      "grid_auto_rows": null,
      "grid_column": null,
      "grid_gap": null,
      "grid_row": null,
      "grid_template_areas": null,
      "grid_template_columns": null,
      "grid_template_rows": null,
      "height": null,
      "justify_content": null,
      "justify_items": null,
      "left": null,
      "margin": null,
      "max_height": null,
      "max_width": null,
      "min_height": null,
      "min_width": null,
      "object_fit": null,
      "object_position": null,
      "order": null,
      "overflow": null,
      "overflow_x": null,
      "overflow_y": null,
      "padding": null,
      "right": null,
      "top": null,
      "visibility": null,
      "width": null
     }
    },
    "cf0392829420437882ff30e3f3a9797f": {
     "model_module": "@jupyter-widgets/controls",
     "model_module_version": "1.5.0",
     "model_name": "ImageModel",
     "state": {
      "_dom_classes": [],
      "_model_module": "@jupyter-widgets/controls",
      "_model_module_version": "1.5.0",
      "_model_name": "ImageModel",
      "_view_count": null,
      "_view_module": "@jupyter-widgets/controls",
      "_view_module_version": "1.5.0",
      "_view_name": "ImageView",
      "format": "png",
      "height": "",
      "layout": "IPY_MODEL_ea2ac885fcbb4970a3c416d643dfa71e",
      "width": ""
     }
    },
    "ea2ac885fcbb4970a3c416d643dfa71e": {
     "model_module": "@jupyter-widgets/base",
     "model_module_version": "1.2.0",
     "model_name": "LayoutModel",
     "state": {
      "_model_module": "@jupyter-widgets/base",
      "_model_module_version": "1.2.0",
      "_model_name": "LayoutModel",
      "_view_count": null,
      "_view_module": "@jupyter-widgets/base",
      "_view_module_version": "1.2.0",
      "_view_name": "LayoutView",
      "align_content": null,
      "align_items": null,
      "align_self": null,
      "border": null,
      "bottom": null,
      "display": null,
      "flex": null,
      "flex_flow": null,
      "grid_area": null,
      "grid_auto_columns": null,
      "grid_auto_flow": null,
      "grid_auto_rows": null,
      "grid_column": null,
      "grid_gap": null,
      "grid_row": null,
      "grid_template_areas": null,
      "grid_template_columns": null,
      "grid_template_rows": null,
      "height": null,
      "justify_content": null,
      "justify_items": null,
      "left": null,
      "margin": null,
      "max_height": null,
      "max_width": null,
      "min_height": null,
      "min_width": null,
      "object_fit": null,
      "object_position": null,
      "order": null,
      "overflow": null,
      "overflow_x": null,
      "overflow_y": null,
      "padding": null,
      "right": null,
      "top": null,
      "visibility": null,
      "width": null
     }
    }
   }
  }
 },
 "nbformat": 4,
 "nbformat_minor": 5
}
